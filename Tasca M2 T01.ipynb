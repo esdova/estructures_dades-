{
 "cells": [
  {
   "cell_type": "markdown",
   "id": "3ab24eda",
   "metadata": {},
   "source": [
    "### Exercici1"
   ]
  },
  {
   "cell_type": "code",
   "execution_count": 17,
   "id": "d73e451b",
   "metadata": {},
   "outputs": [
    {
     "name": "stdout",
     "output_type": "stream",
     "text": [
      "[['Gener', 'Febrer', 'Març'], ['Abril', 'Maig', 'Juny'], ['Juliol', 'Agost', 'Setembre'], ['Octubre', 'Novembre', 'Desembre']]\n"
     ]
    }
   ],
   "source": [
    "llista_IT = [\"Gener\",\"Febrer\",\"Març\"]\n",
    "llista_2T = [\"Abril\",\"Maig\",\"Juny\"]\n",
    "llista_3T = [\"Juliol\",\"Agost\",\"Setembre\"]\n",
    "llista_4T = [\"Octubre\",\"Novembre\",\"Desembre\"]\n",
    "llista_de_trimestres = []\n",
    "llista_de_trimestres . append (llista_IT)\n",
    "llista_de_trimestres . append (llista_2T)\n",
    "llista_de_trimestres . append (llista_3T)\n",
    "llista_de_trimestres . append (llista_4T)\n",
    "print (llista_de_trimestres) "
   ]
  },
  {
   "cell_type": "markdown",
   "id": "ca0bb88c",
   "metadata": {},
   "source": [
    "### Exercici2"
   ]
  },
  {
   "cell_type": "markdown",
   "id": "4f219c3f",
   "metadata": {},
   "source": [
    "##### Ex2 a)"
   ]
  },
  {
   "cell_type": "code",
   "execution_count": 5,
   "id": "9658d647",
   "metadata": {},
   "outputs": [
    {
     "name": "stdout",
     "output_type": "stream",
     "text": [
      "Febrer\n"
     ]
    }
   ],
   "source": [
    "contingut = (llista_de_trimestres [0][1])\n",
    "print (contingut)"
   ]
  },
  {
   "cell_type": "markdown",
   "id": "301abc23",
   "metadata": {},
   "source": [
    "#### Ex2 b)"
   ]
  },
  {
   "cell_type": "code",
   "execution_count": 6,
   "id": "550ed728",
   "metadata": {},
   "outputs": [
    {
     "name": "stdout",
     "output_type": "stream",
     "text": [
      "['Gener', 'Febrer', 'Març']\n"
     ]
    }
   ],
   "source": [
    "contingut =(llista_de_trimestres [0][0:3])\n",
    "print (contingut)"
   ]
  },
  {
   "cell_type": "markdown",
   "id": "105b8b42",
   "metadata": {},
   "source": [
    "#### Ex2 c)"
   ]
  },
  {
   "cell_type": "code",
   "execution_count": 7,
   "id": "305f4cda",
   "metadata": {},
   "outputs": [
    {
     "name": "stdout",
     "output_type": "stream",
     "text": [
      "Setembre Octubre\n"
     ]
    }
   ],
   "source": [
    "contingut =(llista_de_trimestres [2][2])\n",
    "contingut1 =(llista_de_trimestres [3][0])\n",
    "print (contingut,contingut1)"
   ]
  },
  {
   "cell_type": "markdown",
   "id": "c285d1cc",
   "metadata": {},
   "source": [
    "### Exercici3 "
   ]
  },
  {
   "cell_type": "markdown",
   "id": "335b61af",
   "metadata": {},
   "source": [
    "#### Ex3 "
   ]
  },
  {
   "cell_type": "code",
   "execution_count": 8,
   "id": "800da551",
   "metadata": {},
   "outputs": [
    {
     "name": "stdout",
     "output_type": "stream",
     "text": [
      "[22, 7, 46, 29, 2, 5, 44, 18, 19, 1]\n"
     ]
    }
   ],
   "source": [
    "import random\n",
    "llista_desord = [random.randint(0,50)for x in range (10)]  ## creo una llista desordenada de 10 elements a random de 0 a 50\n",
    "print (llista_desord)"
   ]
  },
  {
   "cell_type": "markdown",
   "id": "08a99496",
   "metadata": {},
   "source": [
    "#### Ex3 a) b)  c) d) e) f)"
   ]
  },
  {
   "cell_type": "code",
   "execution_count": 9,
   "id": "d6d35c49",
   "metadata": {},
   "outputs": [
    {
     "name": "stdout",
     "output_type": "stream",
     "text": [
      "[18, 25, 13, 42, 22, 45, 38, 43, 19, 27]\n",
      "El total de números a la llista és:  10\n"
     ]
    }
   ],
   "source": [
    "import random\n",
    "llista_desord = [random.randint(0,50)for x in range (10)]   # llista al.leatoria amb len compto els elements que té la llista\n",
    "print (llista_desord)\n",
    "print(\"El total de números a la llista és: \", len(llista_desord)) # EX a)  (abans ja li havia dit la mida.. de 10 elements)"
   ]
  },
  {
   "cell_type": "code",
   "execution_count": 10,
   "id": "919546d2",
   "metadata": {},
   "outputs": [
    {
     "name": "stdout",
     "output_type": "stream",
     "text": [
      "el numero 3 surt   0 vegades\n"
     ]
    }
   ],
   "source": [
    "num_vegades_surt = llista_desord.count(3)      # Ex b) utilitzo count per saber les vegades que surt el número 3 a la llista\n",
    "print (\"el numero 3 surt  \",num_vegades_surt , \"vegades\")"
   ]
  },
  {
   "cell_type": "code",
   "execution_count": 7,
   "id": "023d08f2",
   "metadata": {},
   "outputs": [
    {
     "name": "stdout",
     "output_type": "stream",
     "text": [
      "els elements 3 i 4 surten   0 vegades\n"
     ]
    }
   ],
   "source": [
    "num_vegades_surt = llista_desord.count(3) and llista_desord.count(4)  # EX c)  uso and per saber quants 3 i 4 hi ha ala llista\n",
    "print (\"els elements 3 i 4 surten  \",num_vegades_surt , \"vegades\")"
   ]
  },
  {
   "cell_type": "code",
   "execution_count": 11,
   "id": "5ecc1064",
   "metadata": {},
   "outputs": [
    {
     "name": "stdout",
     "output_type": "stream",
     "text": [
      "45\n"
     ]
    }
   ],
   "source": [
    "print(max(llista_desord))      # EX d) faig servir max per saber el número més gran de la meva llista"
   ]
  },
  {
   "cell_type": "code",
   "execution_count": 12,
   "id": "c88d8e03",
   "metadata": {},
   "outputs": [
    {
     "name": "stdout",
     "output_type": "stream",
     "text": [
      "[18, 25, 13, 42, 22, 45, 38, 43, 19, 27]\n",
      "[13, 18, 19, 22, 25, 27, 38, 42, 43, 45]\n",
      "els tres valors més petits de la meva llista són [13, 18, 19]\n"
     ]
    }
   ],
   "source": [
    "\n",
    "nova_llist = list(llista_desord) # EX e) copio la llista llista_desord al.leatoria, a nova_llist \n",
    "print(nova_llist)           # visualitzo per pantalla\n",
    "nova_llist.sort()           # ordeno la llista \n",
    "print(nova_llist)           # visualitzo per pantalla la llista ordenada\n",
    "print (\"els tres valors més petits de la meva llista són\",nova_llist[0:3])\n",
    "                            #visualitzo els tres números més petits de la llista"
   ]
  },
  {
   "cell_type": "code",
   "execution_count": 10,
   "id": "9b301ec4",
   "metadata": {},
   "outputs": [
    {
     "name": "stdout",
     "output_type": "stream",
     "text": [
      "10\n"
     ]
    }
   ],
   "source": [
    "print (len(nova_llist))  # aquesta llista té un rang de 10 valors"
   ]
  },
  {
   "cell_type": "markdown",
   "id": "59110269",
   "metadata": {},
   "source": [
    "### Exercici3 "
   ]
  },
  {
   "cell_type": "markdown",
   "id": "336a363f",
   "metadata": {},
   "source": [
    "#### Ex3 a) b)  c) d)"
   ]
  },
  {
   "cell_type": "code",
   "execution_count": 19,
   "id": "9d313e7a",
   "metadata": {},
   "outputs": [
    {
     "name": "stdout",
     "output_type": "stream",
     "text": [
      "{'Pomes': {'Qty': 5, '€': 0.42}, 'Peres': {'Qty': 3, '€': 0.66}, 'Mandarines': {'Qty': 8, '€': 0.6}}\n"
     ]
    }
   ],
   "source": [
    "compra = {\"Pomes\" : {\"Qty\":5, \"€\": 0.42}, \"Peres\" : {\"Qty\": 3, \"€\" : 0.66}} #creo diccionari donat\n",
    "\n",
    "compra  [\"Mandarines\"] = {\"Qty\":8, \"€\": 0.60}           # Ex a) afegeixo una fruita més al diccionari\n",
    "\n",
    "print (compra)"
   ]
  },
  {
   "cell_type": "code",
   "execution_count": 20,
   "id": "d2357f3a",
   "metadata": {
    "scrolled": true
   },
   "outputs": [
    {
     "name": "stdout",
     "output_type": "stream",
     "text": [
      "el preu total Peres es 1.98\n"
     ]
    }
   ],
   "source": [
    "print (\"el preu total Peres es\" ,((compra[\"Peres\"][\"Qty\"]) * (compra[\"Peres\"][\"€\"]))) #EX b) preu de les Peres comprades"
   ]
  },
  {
   "cell_type": "code",
   "execution_count": 21,
   "id": "7241f080",
   "metadata": {},
   "outputs": [
    {
     "name": "stdout",
     "output_type": "stream",
     "text": [
      "{'Pomes': {'Qty': 5, '€': 0.42}, 'Peres': {'Qty': 3, '€': 0.66}, 'Mandarines': {'Qty': 8, '€': 0.6}}\n",
      "Hem comprat un nº total de fruites   16\n"
     ]
    }
   ],
   "source": [
    "print (compra)            #EX c) # visualitzo el diccionari\n",
    "\n",
    "total_compra =((compra.get(\"Peres\")[\"Qty\"]) + (compra.get(\"Pomes\")[\"Qty\"]) + (compra.get(\"Mandarines\")[\"Qty\"]))\n",
    "                           # guardo a total_compra la suma de les\"Qty\"cuantitat de cada fruita\n",
    "\n",
    "print (\"Hem comprat un nº total de fruites  \",total_compra)      #imprimeixo el total de les diferents fruites comprades "
   ]
  },
  {
   "cell_type": "code",
   "execution_count": 22,
   "id": "3da87927",
   "metadata": {},
   "outputs": [
    {
     "name": "stdout",
     "output_type": "stream",
     "text": [
      "['Pomes', 'Peres', 'Mandarines']\n",
      "0.6\n"
     ]
    }
   ],
   "source": [
    "val = list (compra.keys ())\n",
    "print (val)                             #EX d) # visualitzo les claus del diccionari\n",
    "print (compra.get(\"Mandarines\")[\"€\"])   # imprimeixo el preu de la fruita més cara"
   ]
  },
  {
   "cell_type": "code",
   "execution_count": null,
   "id": "df033adc",
   "metadata": {},
   "outputs": [],
   "source": []
  }
 ],
 "metadata": {
  "kernelspec": {
   "display_name": "Python 3 (ipykernel)",
   "language": "python",
   "name": "python3"
  },
  "language_info": {
   "codemirror_mode": {
    "name": "ipython",
    "version": 3
   },
   "file_extension": ".py",
   "mimetype": "text/x-python",
   "name": "python",
   "nbconvert_exporter": "python",
   "pygments_lexer": "ipython3",
   "version": "3.9.12"
  }
 },
 "nbformat": 4,
 "nbformat_minor": 5
}
