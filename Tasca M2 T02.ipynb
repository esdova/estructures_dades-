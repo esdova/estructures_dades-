{
 "cells": [
  {
   "cell_type": "markdown",
   "id": "e953f053",
   "metadata": {},
   "source": [
    "### EX 1"
   ]
  },
  {
   "cell_type": "code",
   "execution_count": 1,
   "id": "55d16388",
   "metadata": {},
   "outputs": [
    {
     "name": "stdout",
     "output_type": "stream",
     "text": [
      "[3, 9, 5, 3, 5, 9, 8, 7, 7, 5, 8, 8, 2, 5, 3]\n",
      "3   nota  <5           és  Suspès\n",
      "9   nota               és  Ecxel.lent \n",
      "5   nota  entre 5 i 6  és  Aprovat\n",
      "3   nota  <5           és  Suspès\n",
      "5   nota  entre 5 i 6  és  Aprovat\n",
      "9   nota               és  Ecxel.lent \n",
      "8   nota  entre 7 i 8  és  Notable\n",
      "7   nota  entre 7 i 8  és  Notable\n",
      "7   nota  entre 7 i 8  és  Notable\n",
      "5   nota  entre 5 i 6  és  Aprovat\n",
      "8   nota  entre 7 i 8  és  Notable\n",
      "8   nota  entre 7 i 8  és  Notable\n",
      "2   nota  <5           és  Suspès\n",
      "5   nota  entre 5 i 6  és  Aprovat\n",
      "3   nota  <5           és  Suspès\n"
     ]
    }
   ],
   "source": [
    "import random                                             # creo una llista al.leaòria de notes de 0 a 9\n",
    "llista_notes=[random.randint(0,9) for x in range (15)]    # suposo que tinc 15 alumnes\n",
    "\n",
    "print (llista_notes)                                      #visualitzo la llista\n",
    "\n",
    "for num in llista_notes:                                  #mitjançant el bucle for  recorro la llista\n",
    "\n",
    "    if num == 9 :\n",
    "        print(     num,  \"  nota               és  Ecxel.lent \")    # condicional decideixo quina paraula li \n",
    "    elif num  <9 and  num >=7:                                      # correspon a la nota de la llista\n",
    "        print(     num,  \"  nota  entre 7 i 8  és  Notable\")        #if  en cas que num sigui igual a 9\n",
    "    elif num  <7 and  num >=5:\n",
    "        print(     num,  \"  nota  entre 5 i 6  és  Aprovat\")        # elif sinó i en cas que num sigui més petit que.. i més\n",
    "    elif  num <5:                                                   # gran o igual...\n",
    "        print(     num,  \"  nota  <5           és  Suspès\")"
   ]
  },
  {
   "cell_type": "markdown",
   "id": "f18dd30e",
   "metadata": {},
   "source": [
    "### Ex 2 "
   ]
  },
  {
   "cell_type": "code",
   "execution_count": 2,
   "id": "bec73c80",
   "metadata": {},
   "outputs": [
    {
     "name": "stdout",
     "output_type": "stream",
     "text": [
      "introdueix el número enter que vols   36\n",
      "introdueix unaltre número enter    37\n",
      "El 37 és mes gran  36\n"
     ]
    }
   ],
   "source": [
    "n1= input(\"introdueix el número enter que vols   \" ) #demano que l usuari introdueixi un número enter\n",
    "n2= input (\"introdueix unaltre número enter    \" )   # introduir n2 el segon número enter\n",
    "if n1==n2 :\n",
    "    print(\"Els números son iguals\")                  #pregunto si els números introduïts són iguals\n",
    "else :\n",
    "    if n1>n2 : \n",
    "        print(\"El\", n1 , \"és mes gran que \", n2)     #sino iguals, i si n1, és més gran print\n",
    "    else :\n",
    "        print(\"El\", n2 , \"és mes gran \", n1)              #sino és més gran que n1, és més petit que n1 print           "
   ]
  },
  {
   "cell_type": "markdown",
   "id": "68ee905f",
   "metadata": {},
   "source": [
    "### EX 3"
   ]
  },
  {
   "cell_type": "code",
   "execution_count": 3,
   "id": "ef82db1b",
   "metadata": {},
   "outputs": [
    {
     "name": "stdout",
     "output_type": "stream",
     "text": [
      " introdueix el teu nom   Esther\n",
      " introdueix un número:  6\n",
      "EstherEstherEstherEstherEstherEsther\n",
      "['Esther', 'Esther', 'Esther', 'Esther', 'Esther', 'Esther']\n"
     ]
    }
   ],
   "source": [
    "nom = input (\" introdueix el teu nom   \")                 # demano que introdueixi un nom\n",
    "numero =  int (input (\" introdueix un número:  \"))        #demano que introdueixi un número\n",
    "if numero == 0 :\n",
    "    print ( \"El número\", numero,\"  introduït no és correcte\")  # condicional si es 0\n",
    "else :\n",
    "    print (numero * (str( nom )))               # escriu el nom tantes vegades com li hem indicat a la var numero\n",
    "\n",
    "    print (numero * (str.split( nom )))         # escriu el nom introduït tantes vegades i separat per ,"
   ]
  },
  {
   "cell_type": "markdown",
   "id": "9c53aec4",
   "metadata": {},
   "source": [
    "### EX 4"
   ]
  },
  {
   "cell_type": "code",
   "execution_count": 4,
   "id": "6ddf529b",
   "metadata": {},
   "outputs": [
    {
     "name": "stdout",
     "output_type": "stream",
     "text": [
      "Introdueix un número del 0 al 5    4\n",
      "Introdueix un número del 0 al 9    5\n",
      "[4, 4, 4, 3, 3]\n",
      "[3, 3, 4, 4, 4]\n",
      "      La llista random que surt, no és simètrica\n"
     ]
    }
   ],
   "source": [
    "import random\n",
    "\n",
    "nn = int (input (\"Introdueix un número del 0 al 5    \"))  # per dir quants números entren per fer el random \n",
    "xx = int (input (\"Introdueix un número del 0 al 9    \"))  # que et digui quans valors vol que tingui la llista mirar\n",
    "llista = [random.randint (0,nn) for x in range (xx)]      #números al.leatoris que ha demanat que serán de  0 a nn\n",
    "                                                          # per la llista que será de el que indiqui xx\n",
    "print (llista)\n",
    "llista.reverse()                                          #inverteixo la llista ex: [123] pasarà a ser [321]\n",
    "print (llista)\n",
    "\n",
    "if (llista == llista[::-1]):                             #comprobo si la llista és igual a la llista al revés\n",
    "    print(\" llista de números és simètrica\")             #[::-1] és la manera de poder començar per el últim valor fins arribar\n",
    "    print (\" la llista té\", (len (llista)))              #al primer \n",
    "else:\n",
    "    print(\"      La llista random que surt, no és simètrica\")    # len compta els elements de la llista"
   ]
  },
  {
   "cell_type": "markdown",
   "id": "be438513",
   "metadata": {},
   "source": [
    "### EX 5"
   ]
  },
  {
   "cell_type": "code",
   "execution_count": 5,
   "id": "4940e618",
   "metadata": {},
   "outputs": [
    {
     "name": "stdout",
     "output_type": "stream",
     "text": [
      "introdueix un número del 0 al 5    3\n",
      "introdueix un número del 0 al 9    7\n",
      "[3, 1, 3, 0, 0, 3, 3]\n",
      "coincidencies:  1\n"
     ]
    }
   ],
   "source": [
    "import random\n",
    "\n",
    "nn = int (input (\"introdueix un número del 0 al 5    \")) #trio el número de valors que estarà formada la llista\n",
    "xx = int (input (\"introdueix un número del 0 al 9    \"))\n",
    "llista = [random.randint (0,nn) for x in range (xx)]     #llista al-leatoria amb les dades introduïdes\n",
    "print (llista)\n",
    "posicio = 0                                         # variable que té la posició a la llista \n",
    "coincidencies = 0                                   # variable que té les coincidencies \n",
    "for numero in llista:                               # recorregut de la llista\n",
    "    if numero == posicio:                           #condició  que compara el número amb la posició\n",
    "        coincidencies += 1                          # si coincideix la variable coincidencies +1\n",
    "    posicio += 1                                    # la variable posició +1\n",
    "print( \"coincidencies: \", coincidencies )"
   ]
  },
  {
   "cell_type": "code",
   "execution_count": null,
   "id": "753686b7",
   "metadata": {},
   "outputs": [],
   "source": []
  }
 ],
 "metadata": {
  "kernelspec": {
   "display_name": "Python 3 (ipykernel)",
   "language": "python",
   "name": "python3"
  },
  "language_info": {
   "codemirror_mode": {
    "name": "ipython",
    "version": 3
   },
   "file_extension": ".py",
   "mimetype": "text/x-python",
   "name": "python",
   "nbconvert_exporter": "python",
   "pygments_lexer": "ipython3",
   "version": "3.9.12"
  }
 },
 "nbformat": 4,
 "nbformat_minor": 5
}
